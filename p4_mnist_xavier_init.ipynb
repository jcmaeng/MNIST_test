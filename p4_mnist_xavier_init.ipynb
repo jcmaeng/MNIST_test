{
 "cells": [
  {
   "cell_type": "code",
   "execution_count": 7,
   "metadata": {},
   "outputs": [
    {
     "name": "stdout",
     "output_type": "stream",
     "text": [
      "Extracting ./mnist/data/train-images-idx3-ubyte.gz\n",
      "Extracting ./mnist/data/train-labels-idx1-ubyte.gz\n",
      "Extracting ./mnist/data/t10k-images-idx3-ubyte.gz\n",
      "Extracting ./mnist/data/t10k-labels-idx1-ubyte.gz\n"
     ]
    }
   ],
   "source": [
    "import time\n",
    "import numpy as np\n",
    "import tensorflow as tf\n",
    "from tensorflow.examples.tutorials.mnist import input_data\n",
    "\n",
    "## Read input data\n",
    "mnist = input_data.read_data_sets(\"./mnist/data/\", one_hot=True)"
   ]
  },
  {
   "cell_type": "code",
   "execution_count": 8,
   "metadata": {
    "collapsed": true
   },
   "outputs": [],
   "source": [
    "## Hyper parameters\n",
    "EPOCHS = 1000\n",
    "LEARNING_RATE = 0.1\n",
    "N_BATCHES = 100\n"
   ]
  },
  {
   "cell_type": "code",
   "execution_count": 9,
   "metadata": {
    "collapsed": true
   },
   "outputs": [],
   "source": [
    "## Construct model\n",
    "class LearningModel:\n",
    "    def __init__(self, sess):\n",
    "        self.sess = sess\n",
    "        self.build_model()\n",
    "        \n",
    "    def build_model(self):\n",
    "        self.X = tf.placeholder(tf.float32, [None, 784])\n",
    "        self.Y = tf.placeholder(tf.float32, [None, 10])\n",
    "\n",
    "        W = tf.get_variable('W', shape=[784, 10], initializer=tf.contrib.layers.xavier_initializer())\n",
    "        b = tf.Variable(tf.zeros([10]))\n",
    "\n",
    "        self.model = tf.matmul(self.X, W) + b\n",
    "\n",
    "        # define cost and optimizer\n",
    "        self.cost = tf.reduce_mean(tf.nn.softmax_cross_entropy_with_logits(logits=self.model, labels=self.Y))\n",
    "        self.optimizer = tf.train.GradientDescentOptimizer(learning_rate=LEARNING_RATE).minimize(self.cost)\n",
    "\n",
    "        # define accuracy\n",
    "        prediction = tf.equal(tf.argmax(self.model, 1), tf.argmax(self.Y, 1))\n",
    "        self.accuracy = tf.reduce_mean(tf.cast(prediction, tf.float32))\n",
    "        \n",
    "    def get_accuracy(self, x_test, y_test):\n",
    "        return self.sess.run(self.accuracy, feed_dict={self.X:x_test, self.Y:y_test})\n",
    "    \n",
    "    def do_train(self, x_test, y_test):\n",
    "        return self.sess.run([self.optimizer, self.cost], feed_dict={self.X:x_test, self.Y:y_test})"
   ]
  },
  {
   "cell_type": "code",
   "execution_count": 10,
   "metadata": {},
   "outputs": [
    {
     "name": "stdout",
     "output_type": "stream",
     "text": [
      "Traing time: 56.756581 sec\n",
      "Average Cost:  0.46801507472991943\n",
      "accuracy:  0.9095\n"
     ]
    }
   ],
   "source": [
    "## Training\n",
    "with tf.Session() as sess:\n",
    "    mymodel = LearningModel(sess)\n",
    "    sess.run(tf.global_variables_initializer())\n",
    "\n",
    "    total_cost = 0\n",
    "    t_start = time.time()\n",
    "    for i in range(EPOCHS):\n",
    "        opt, cost_val = mymodel.do_train(mnist.train.images, mnist.train.labels)\n",
    "        total_cost += cost_val\n",
    "    \n",
    "    print(\"Traing time: %f sec\" % (time.time() - t_start))\n",
    "    print('Average Cost: ', '{}'.format((total_cost/EPOCHS).astype(np.float32)))\n",
    "\n",
    "    ## Test\n",
    "    accuracy = mymodel.get_accuracy(mnist.test.images, mnist.test.labels)\n",
    "    print('accuracy: ', accuracy)"
   ]
  },
  {
   "cell_type": "code",
   "execution_count": null,
   "metadata": {
    "collapsed": true
   },
   "outputs": [],
   "source": []
  }
 ],
 "metadata": {
  "anaconda-cloud": {},
  "kernelspec": {
   "display_name": "Python [conda root]",
   "language": "python",
   "name": "conda-root-py"
  },
  "language_info": {
   "codemirror_mode": {
    "name": "ipython",
    "version": 3
   },
   "file_extension": ".py",
   "mimetype": "text/x-python",
   "name": "python",
   "nbconvert_exporter": "python",
   "pygments_lexer": "ipython3",
   "version": "3.5.2"
  }
 },
 "nbformat": 4,
 "nbformat_minor": 1
}

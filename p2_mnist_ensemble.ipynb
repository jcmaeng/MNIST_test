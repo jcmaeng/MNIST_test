{
 "cells": [
  {
   "cell_type": "code",
   "execution_count": 6,
   "metadata": {},
   "outputs": [
    {
     "name": "stdout",
     "output_type": "stream",
     "text": [
      "Extracting ./mnist/data/train-images-idx3-ubyte.gz\n",
      "Extracting ./mnist/data/train-labels-idx1-ubyte.gz\n",
      "Extracting ./mnist/data/t10k-images-idx3-ubyte.gz\n",
      "Extracting ./mnist/data/t10k-labels-idx1-ubyte.gz\n"
     ]
    }
   ],
   "source": [
    "import time\n",
    "import numpy as np\n",
    "import random\n",
    "import tensorflow as tf\n",
    "from tensorflow.examples.tutorials.mnist import input_data\n",
    "\n",
    "## Read input data\n",
    "mnist = input_data.read_data_sets(\"./mnist/data/\", one_hot=True)"
   ]
  },
  {
   "cell_type": "code",
   "execution_count": 7,
   "metadata": {
    "collapsed": true
   },
   "outputs": [],
   "source": [
    "## Hyper parameters\n",
    "NUM_MODELS = 4\n",
    "EPOCHS = 1000\n",
    "LEARNING_RATE = 0.1\n"
   ]
  },
  {
   "cell_type": "code",
   "execution_count": 8,
   "metadata": {},
   "outputs": [],
   "source": [
    "## Construct model\n",
    "class LearningModel:\n",
    "    def __init__(self, sess):\n",
    "        self.sess = sess\n",
    "        self.build_model()\n",
    "        \n",
    "    def build_model(self):\n",
    "        self.X = tf.placeholder(tf.float32, [None, 784])\n",
    "        self.Y = tf.placeholder(tf.float32, [None, 10])\n",
    "\n",
    "        W = tf.Variable(tf.zeros([784, 10]))\n",
    "        b = tf.Variable(tf.zeros([10]))\n",
    "\n",
    "        self.model = tf.matmul(self.X, W) + b\n",
    "\n",
    "        # define cost and optimizer\n",
    "        self.cost = tf.reduce_mean(tf.nn.softmax_cross_entropy_with_logits(logits=self.model, labels=self.Y))\n",
    "        self.optimizer = tf.train.GradientDescentOptimizer(learning_rate=LEARNING_RATE).minimize(self.cost)\n",
    "\n",
    "        # define accuracy\n",
    "        prediction = tf.equal(tf.argmax(self.model, 1), tf.argmax(self.Y, 1))\n",
    "        self.accuracy = tf.reduce_mean(tf.cast(prediction, tf.float32))\n",
    "        \n",
    "    def do_predict(self, x_test):\n",
    "        h = tf.nn.softmax(self.model)\n",
    "        return self.sess.run(h, feed_dict={self.X:x_test})\n",
    "    \n",
    "    def get_accuracy(self, x_test, y_test):\n",
    "        return self.sess.run(self.accuracy, feed_dict={self.X:x_test, self.Y:y_test})\n",
    "    \n",
    "    def do_train(self, x_test, y_test):\n",
    "        return self.sess.run([self.optimizer, self.cost], feed_dict={self.X:x_test, self.Y:y_test})\n",
    "\n"
   ]
  },
  {
   "cell_type": "code",
   "execution_count": 9,
   "metadata": {},
   "outputs": [
    {
     "name": "stdout",
     "output_type": "stream",
     "text": [
      "Create models for ensemble\n",
      "\n",
      "Training time: 59.525995 secs\n",
      "Average Cost:  [ 0.46117057  0.46054868  0.457278    0.43268508]\n",
      "\n",
      "\n",
      "Model 0  - Accuracy: 0.9084\n",
      "Model 1  - Accuracy: 0.9106\n",
      "Model 2  - Accuracy: 0.9073\n",
      "Model 3  - Accuracy: 0.9055\n",
      "Ensemble accuracy: 0.9101\n"
     ]
    }
   ],
   "source": [
    "## Main\n",
    "models = []\n",
    "model_input_size = int(mnist.train.images.shape[0]/NUM_MODELS)\n",
    "with tf.Session() as sess:\n",
    "    print(\"Create models for ensemble\")\n",
    "    for m in range(NUM_MODELS):\n",
    "        models.append(LearningModel(sess))\n",
    "\n",
    "    sess.run(tf.global_variables_initializer())\n",
    "\n",
    "    ## Training\n",
    "    t_start = time.time()\n",
    "    avg_costs = np.zeros(len(models))\n",
    "    for i in range(EPOCHS):\n",
    "        for model_idx, model in enumerate(models):\n",
    "            train_images = mnist.train.images[model_idx*model_input_size:(model_idx+1)*model_input_size, :]\n",
    "            train_labels = mnist.train.labels[model_idx*model_input_size:(model_idx+1)*model_input_size, :]\n",
    "            opt, cost_val = model.do_train(train_images, train_labels)\n",
    "            avg_costs[model_idx] += cost_val/EPOCHS\n",
    "\n",
    "    print('\\nTraining time: %f secs' % (time.time() - t_start))\n",
    "    print('Average Cost: ', avg_costs)\n",
    "    print('\\n')\n",
    "\n",
    "    ## get ensemble accuracy\n",
    "    test_size = len(mnist.test.labels)\n",
    "    predictions = np.zeros([test_size, 10])\n",
    "    for model_idx, model in enumerate(models):\n",
    "        print(\"Model\", model_idx, ' - Accuracy:', model.get_accuracy(mnist.test.images, mnist.test.labels))\n",
    "        predictions += model.do_predict(mnist.test.images)\n",
    "        ensemble_prediction = tf.equal(tf.argmax(predictions, 1), tf.argmax(mnist.test.labels, 1))\n",
    "\n",
    "    ensemble_accuracy = tf.reduce_mean(tf.cast(ensemble_prediction, tf.float32))\n",
    "    print('Ensemble accuracy:', sess.run(ensemble_accuracy))\n"
   ]
  },
  {
   "cell_type": "code",
   "execution_count": null,
   "metadata": {
    "collapsed": true
   },
   "outputs": [],
   "source": []
  }
 ],
 "metadata": {
  "anaconda-cloud": {},
  "kernelspec": {
   "display_name": "Python [conda root]",
   "language": "python",
   "name": "conda-root-py"
  },
  "language_info": {
   "codemirror_mode": {
    "name": "ipython",
    "version": 3
   },
   "file_extension": ".py",
   "mimetype": "text/x-python",
   "name": "python",
   "nbconvert_exporter": "python",
   "pygments_lexer": "ipython3",
   "version": "3.5.2"
  }
 },
 "nbformat": 4,
 "nbformat_minor": 1
}

{
 "cells": [
  {
   "cell_type": "code",
   "execution_count": 1,
   "metadata": {},
   "outputs": [
    {
     "name": "stdout",
     "output_type": "stream",
     "text": [
      "Extracting ./mnist/data/train-images-idx3-ubyte.gz\n",
      "Extracting ./mnist/data/train-labels-idx1-ubyte.gz\n",
      "Extracting ./mnist/data/t10k-images-idx3-ubyte.gz\n",
      "Extracting ./mnist/data/t10k-labels-idx1-ubyte.gz\n"
     ]
    }
   ],
   "source": [
    "import time\n",
    "import numpy as np\n",
    "import tensorflow as tf\n",
    "from tensorflow.examples.tutorials.mnist import input_data\n",
    "\n",
    "## Read input data\n",
    "mnist = input_data.read_data_sets(\"./mnist/data/\", one_hot=True)"
   ]
  },
  {
   "cell_type": "code",
   "execution_count": 2,
   "metadata": {
    "collapsed": true
   },
   "outputs": [],
   "source": [
    "## Hyper parameters\n",
    "EPOCHS = 70000\n",
    "LEARNING_RATE = 0.001\n",
    "N_BATCHES = 1 # Stochastic\n"
   ]
  },
  {
   "cell_type": "code",
   "execution_count": 5,
   "metadata": {
    "collapsed": true
   },
   "outputs": [],
   "source": [
    "## Construct model\n",
    "class LearningModel:\n",
    "    def __init__(self, sess):\n",
    "        self.sess = sess\n",
    "        self.build_model()\n",
    "        \n",
    "    def build_model(self):\n",
    "        self.X = tf.placeholder(tf.float32, [None, 784])\n",
    "        self.Y = tf.placeholder(tf.float32, [None, 10])\n",
    "\n",
    "        W = tf.Variable(tf.zeros([784, 10]))\n",
    "        b = tf.Variable(tf.zeros([10]))\n",
    "\n",
    "        self.model = tf.add(tf.matmul(self.X, W), b)\n",
    "\n",
    "        # define cost and optimizer\n",
    "        self.cost = tf.reduce_mean(tf.nn.softmax_cross_entropy_with_logits(logits=self.model, labels=self.Y))\n",
    "        self.optimizer = tf.train.GradientDescentOptimizer(learning_rate=LEARNING_RATE).minimize(self.cost)\n",
    "\n",
    "        # define accuracy\n",
    "        prediction = tf.equal(tf.argmax(self.model, 1), tf.argmax(self.Y, 1))\n",
    "        self.accuracy = tf.reduce_mean(tf.cast(prediction, tf.float32))\n",
    "        \n",
    "    def do_predict(self, x_test):\n",
    "        return self.sess.run(self.model, feed_dict={self.X:x_test})\n",
    "    \n",
    "    def get_accuracy(self, x_test, y_test):\n",
    "        return self.sess.run(self.accuracy, feed_dict={self.X:x_test, self.Y:y_test})\n",
    "    \n",
    "    def do_train(self, x_test, y_test):\n",
    "        return self.sess.run([self.optimizer, self.cost], feed_dict={self.X:x_test, self.Y:y_test})\n",
    "\n"
   ]
  },
  {
   "cell_type": "code",
   "execution_count": 6,
   "metadata": {},
   "outputs": [
    {
     "name": "stdout",
     "output_type": "stream",
     "text": [
      "0 Avgerage cost =  2.303\n",
      "5000 Avgerage cost =  0.688\n",
      "10000 Avgerage cost =  0.291\n",
      "15000 Avgerage cost =  0.030\n",
      "20000 Avgerage cost =  0.093\n",
      "25000 Avgerage cost =  0.053\n",
      "30000 Avgerage cost =  0.730\n",
      "35000 Avgerage cost =  0.100\n",
      "40000 Avgerage cost =  0.061\n",
      "45000 Avgerage cost =  0.128\n",
      "50000 Avgerage cost =  0.154\n",
      "55000 Avgerage cost =  0.022\n",
      "60000 Avgerage cost =  0.186\n",
      "65000 Avgerage cost =  0.070\n",
      "\n",
      "Training time: 74.391928 secs\n",
      "accuracy:  0.9058\n"
     ]
    }
   ],
   "source": [
    "with tf.Session() as sess:\n",
    "    mymodel = LearningModel(sess)\n",
    "    sess.run(tf.global_variables_initializer())\n",
    "    \n",
    "    ## Training\n",
    "    input_size = mnist.train.images.shape[0]\n",
    "    t_start = time.time()\n",
    "    for e in range(EPOCHS):\n",
    "        total_cost = 0\n",
    "\n",
    "        input_idx = np.random.choice(input_size, N_BATCHES)\n",
    "        batch_xs = mnist.train.images[input_idx]\n",
    "        batch_ys = mnist.train.labels[input_idx]\n",
    "\n",
    "        _, cost_val = mymodel.do_train(batch_xs, batch_ys)\n",
    "        total_cost += cost_val\n",
    "\n",
    "        if e % 5000 == 0:\n",
    "            print(e, 'Avgerage cost = ', '{:.3f}'.format(total_cost))\n",
    "    print(\"\\nTraining time: %f secs\" % (time.time() - t_start))\n",
    "    \n",
    "    ## Test\n",
    "    predict = mymodel.do_predict(mnist.test.images)\n",
    "    accuracy = mymodel.get_accuracy(mnist.test.images, mnist.test.labels)\n",
    "    print('accuracy: ', accuracy)"
   ]
  },
  {
   "cell_type": "code",
   "execution_count": null,
   "metadata": {
    "collapsed": true
   },
   "outputs": [],
   "source": []
  }
 ],
 "metadata": {
  "anaconda-cloud": {},
  "kernelspec": {
   "display_name": "Python [conda root]",
   "language": "python",
   "name": "conda-root-py"
  },
  "language_info": {
   "codemirror_mode": {
    "name": "ipython",
    "version": 3
   },
   "file_extension": ".py",
   "mimetype": "text/x-python",
   "name": "python",
   "nbconvert_exporter": "python",
   "pygments_lexer": "ipython3",
   "version": "3.5.2"
  }
 },
 "nbformat": 4,
 "nbformat_minor": 1
}

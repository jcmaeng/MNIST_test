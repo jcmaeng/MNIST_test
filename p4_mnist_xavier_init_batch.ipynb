{
 "cells": [
  {
   "cell_type": "code",
   "execution_count": 1,
   "metadata": {},
   "outputs": [
    {
     "name": "stdout",
     "output_type": "stream",
     "text": [
      "Extracting ./mnist/data/train-images-idx3-ubyte.gz\n",
      "Extracting ./mnist/data/train-labels-idx1-ubyte.gz\n",
      "Extracting ./mnist/data/t10k-images-idx3-ubyte.gz\n",
      "Extracting ./mnist/data/t10k-labels-idx1-ubyte.gz\n"
     ]
    }
   ],
   "source": [
    "import time\n",
    "import numpy as np\n",
    "import tensorflow as tf\n",
    "from tensorflow.examples.tutorials.mnist import input_data\n",
    "\n",
    "## Read input data\n",
    "mnist = input_data.read_data_sets(\"./mnist/data/\", one_hot=True)"
   ]
  },
  {
   "cell_type": "code",
   "execution_count": 2,
   "metadata": {
    "collapsed": true
   },
   "outputs": [],
   "source": [
    "## Hyper parameters\n",
    "EPOCHS = 1000\n",
    "LEARNING_RATE = 0.1\n",
    "N_BATCHES = 100\n"
   ]
  },
  {
   "cell_type": "code",
   "execution_count": 5,
   "metadata": {
    "collapsed": true
   },
   "outputs": [],
   "source": [
    "## Construct model\n",
    "class LearningModel:\n",
    "    def __init__(self, sess):\n",
    "        self.sess = sess\n",
    "        self.build_model()\n",
    "        \n",
    "    def build_model(self):\n",
    "        self.X = tf.placeholder(tf.float32, [None, 784])\n",
    "        self.Y = tf.placeholder(tf.float32, [None, 10])\n",
    "\n",
    "        #W = tf.get_variable('W', shape=[784, 10], initializer=tf.contrib.layers.xavier_initializer()) #tf.zeros([784, 10]))\n",
    "        W = tf.Variable(tf.zeros([784, 10]))\n",
    "        b = tf.Variable(tf.zeros([10]))\n",
    "\n",
    "        self.model = tf.add(tf.matmul(self.X, W), b)\n",
    "\n",
    "        # define cost and optimizer\n",
    "        self.cost = tf.reduce_mean(tf.nn.softmax_cross_entropy_with_logits(logits=self.model, labels=self.Y))\n",
    "        self.optimizer = tf.train.GradientDescentOptimizer(learning_rate=LEARNING_RATE).minimize(self.cost)\n",
    "\n",
    "        # define accuracy\n",
    "        prediction = tf.equal(tf.argmax(self.model, 1), tf.argmax(self.Y, 1))\n",
    "        self.accuracy = tf.reduce_mean(tf.cast(prediction, tf.float32))\n",
    "        \n",
    "    def do_predict(self, x_test):\n",
    "        return self.sess.run(self.model, feed_dict={self.X:x_test})\n",
    "    \n",
    "    def get_accuracy(self, x_test, y_test):\n",
    "        return self.sess.run(self.accuracy, feed_dict={self.X:x_test, self.Y:y_test})\n",
    "    \n",
    "    def do_train(self, x_test, y_test):\n",
    "        return self.sess.run([self.optimizer, self.cost], feed_dict={self.X:x_test, self.Y:y_test})\n",
    "\n"
   ]
  },
  {
   "cell_type": "code",
   "execution_count": 4,
   "metadata": {},
   "outputs": [
    {
     "name": "stdout",
     "output_type": "stream",
     "text": [
      "0 Avgerage cost =  0.560\n",
      "100 Avgerage cost =  0.243\n",
      "200 Avgerage cost =  0.235\n",
      "300 Avgerage cost =  0.230\n",
      "400 Avgerage cost =  0.227\n",
      "500 Avgerage cost =  0.225\n",
      "600 Avgerage cost =  0.223\n",
      "700 Avgerage cost =  0.222\n",
      "800 Avgerage cost =  0.221\n",
      "900 Avgerage cost =  0.220\n",
      "\n",
      "Training time: 774.392846 secs\n",
      "accuracy:  0.9247\n"
     ]
    }
   ],
   "source": [
    "with tf.Session() as sess:\n",
    "    mymodel = LearningModel(sess)\n",
    "    sess.run(tf.global_variables_initializer())\n",
    "    \n",
    "    ## Training\n",
    "    total_batch = int(mnist.train.num_examples / N_BATCHES)\n",
    "    t_start = time.time()\n",
    "    for e in range(EPOCHS):\n",
    "        total_cost = 0\n",
    "\n",
    "        for i in range(total_batch):\n",
    "            batch_xs, batch_ys = mnist.train.next_batch(N_BATCHES)\n",
    "\n",
    "            _, cost_val = mymodel.do_train(batch_xs, batch_ys)\n",
    "            total_cost += cost_val\n",
    "\n",
    "        if e % 100 == 0:\n",
    "            print(e, 'Avgerage cost = ', '{:.3f}'.format(total_cost/total_batch))\n",
    "    print(\"\\nTraining time: %f secs\" % (time.time() - t_start))\n",
    "    \n",
    "    ## Test\n",
    "    predict = mymodel.do_predict(mnist.test.images)\n",
    "    accuracy = mymodel.get_accuracy(mnist.test.images, mnist.test.labels)\n",
    "    print('accuracy: ', accuracy)"
   ]
  },
  {
   "cell_type": "code",
   "execution_count": null,
   "metadata": {},
   "outputs": [
    {
     "name": "stdout",
     "output_type": "stream",
     "text": [
      "0 Avgerage cost =  0.549\n",
      "100 Avgerage cost =  0.243\n",
      "200 Avgerage cost =  0.234\n"
     ]
    }
   ],
   "source": [
    "with tf.Session() as sess:\n",
    "    mymodel = LearningModel(sess)\n",
    "    sess.run(tf.global_variables_initializer())\n",
    "    \n",
    "    ## Training\n",
    "    total_batch = int(mnist.train.num_examples / N_BATCHES)\n",
    "    t_start = time.time()\n",
    "    for e in range(EPOCHS):\n",
    "        total_cost = 0\n",
    "\n",
    "        for i in range(total_batch):\n",
    "            batch_xs, batch_ys = mnist.train.next_batch(N_BATCHES)\n",
    "\n",
    "            _, cost_val = mymodel.do_train(batch_xs, batch_ys)\n",
    "            total_cost += cost_val\n",
    "\n",
    "        if e % 100 == 0:\n",
    "            print(e, 'Avgerage cost = ', '{:.3f}'.format(total_cost/total_batch))\n",
    "    print(\"\\nTraining time: %f secs\" % (time.time() - t_start))\n",
    "    \n",
    "    ## Test\n",
    "    predict = mymodel.do_predict(mnist.test.images)\n",
    "    accuracy = mymodel.get_accuracy(mnist.test.images, mnist.test.labels)\n",
    "    print('accuracy: ', accuracy)"
   ]
  },
  {
   "cell_type": "code",
   "execution_count": null,
   "metadata": {
    "collapsed": true
   },
   "outputs": [],
   "source": []
  }
 ],
 "metadata": {
  "anaconda-cloud": {},
  "kernelspec": {
   "display_name": "Python [conda root]",
   "language": "python",
   "name": "conda-root-py"
  },
  "language_info": {
   "codemirror_mode": {
    "name": "ipython",
    "version": 3
   },
   "file_extension": ".py",
   "mimetype": "text/x-python",
   "name": "python",
   "nbconvert_exporter": "python",
   "pygments_lexer": "ipython3",
   "version": "3.5.2"
  }
 },
 "nbformat": 4,
 "nbformat_minor": 1
}
